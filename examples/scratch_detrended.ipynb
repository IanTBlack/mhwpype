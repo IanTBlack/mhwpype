{
 "cells": [
  {
   "cell_type": "code",
   "id": "initial_id",
   "metadata": {
    "collapsed": true,
    "ExecuteTime": {
     "end_time": "2025-03-11T21:19:48.633610Z",
     "start_time": "2025-03-11T21:19:47.806948Z"
    }
   },
   "source": [
    "from datetime import datetime\n",
    "import xarray as xr\n",
    "\n",
    "from typing import Union, List\n",
    "import matplotlib.pyplot as plt\n",
    "\n",
    "from mhwpype import ReferencePeriod\n",
    "from mhwpype.utils import update_names, reformat_longitude, assign_depth\n",
    "from mhwpype.core import build_heat_spike_mask\n",
    "from mhwpype.core import build_mhw_mask, group_from_mask, group_stats"
   ],
   "execution_count": 6,
   "outputs": []
  },
  {
   "metadata": {
    "ExecuteTime": {
     "end_time": "2025-03-11T21:20:32.647260Z",
     "start_time": "2025-03-11T21:20:30.985392Z"
    }
   },
   "cell_type": "code",
   "source": [
    "filepath = 'data/sst.day.mean.1981-2024.nc'\n",
    "ds = xr.open_dataset(filepath)\n",
    "\n",
    "ds = update_names(ds)\n",
    "ds['longitude'] = reformat_longitude(ds.longitude)\n",
    "ds = ds.sortby(['time','latitude','longitude'])\n",
    "ds = ds.sel(latitude= slice(41.5,46.5), longitude=slice(-130,-122))\n",
    "ds = assign_depth(ds,0)\n",
    "\n",
    "ds = ds.sel(depth = 0, latitude = 44.5, longitude = -125, method='nearest')"
   ],
   "id": "86a7cc6961ba12f6",
   "execution_count": 8,
   "outputs": []
  },
  {
   "metadata": {
    "ExecuteTime": {
     "end_time": "2025-03-11T21:25:24.017435Z",
     "start_time": "2025-03-11T21:25:24.009345Z"
    }
   },
   "cell_type": "code",
   "source": "fit = ds.polyfit(dim = 'time', deg = 1, skipna = True)",
   "id": "ec68464f43c33d63",
   "execution_count": 22,
   "outputs": []
  },
  {
   "metadata": {
    "ExecuteTime": {
     "end_time": "2025-03-11T21:27:19.813055Z",
     "start_time": "2025-03-11T21:27:19.805820Z"
    }
   },
   "cell_type": "code",
   "source": [
    "m = fit.sel(degree = 1).sea_water_temperature_polyfit_coefficients\n",
    "b = fit.sel(degree = 0).sea_water_temperature_polyfit_coefficients\n",
    "y = m * ds.time.astype(int) + b"
   ],
   "id": "12cde30ffb0b31c2",
   "execution_count": 29,
   "outputs": []
  },
  {
   "metadata": {
    "ExecuteTime": {
     "end_time": "2025-03-11T21:27:24.310286Z",
     "start_time": "2025-03-11T21:27:24.117263Z"
    }
   },
   "cell_type": "code",
   "source": [
    "fig, ax = plt.subplots(1,1, figsize = (12,8))\n",
    "ax.plot(ds.time, ds.sea_water_temperature)\n",
    "ax.plot(ds.time, y)"
   ],
   "id": "7b9efd6ce664b609",
   "execution_count": 30,
   "outputs": []
  },
  {
   "metadata": {},
   "cell_type": "code",
   "execution_count": null,
   "source": "",
   "id": "cdc966a13f5c30f8",
   "outputs": []
  },
  {
   "metadata": {},
   "cell_type": "code",
   "execution_count": null,
   "source": "",
   "id": "c09ecedb91854c5b",
   "outputs": []
  }
 ],
 "metadata": {
  "kernelspec": {
   "display_name": "Python 3",
   "language": "python",
   "name": "python3"
  },
  "language_info": {
   "codemirror_mode": {
    "name": "ipython",
    "version": 2
   },
   "file_extension": ".py",
   "mimetype": "text/x-python",
   "name": "python",
   "nbconvert_exporter": "python",
   "pygments_lexer": "ipython2",
   "version": "2.7.6"
  }
 },
 "nbformat": 4,
 "nbformat_minor": 5
}
